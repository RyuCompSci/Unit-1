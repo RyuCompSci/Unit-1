{
  "nbformat": 4,
  "nbformat_minor": 0,
  "metadata": {
    "colab": {
      "name": "Basic",
      "provenance": [],
      "collapsed_sections": [],
      "authorship_tag": "ABX9TyPJSCJa0LS15aeP4FFXFpDK",
      "include_colab_link": true
    },
    "kernelspec": {
      "name": "python3",
      "display_name": "Python 3"
    },
    "language_info": {
      "name": "python"
    }
  },
  "cells": [
    {
      "cell_type": "markdown",
      "metadata": {
        "id": "view-in-github",
        "colab_type": "text"
      },
      "source": [
        "<a href=\"https://colab.research.google.com/github/RyuCompSci/Unit-1/blob/main/Basic.ipynb\" target=\"_parent\"><img src=\"https://colab.research.google.com/assets/colab-badge.svg\" alt=\"Open In Colab\"/></a>"
      ]
    },
    {
      "cell_type": "code",
      "metadata": {
        "id": "vkjg2e7dGJ-M"
      },
      "source": [
        ""
      ],
      "execution_count": null,
      "outputs": []
    },
    {
      "cell_type": "markdown",
      "metadata": {
        "id": "AbJCGN8vGVlF"
      },
      "source": [
        "# Programing Practice #\n",
        "\n",
        "1.Write a program that calculates the addion of all integer numbers from 0 to 2021\n",
        "\n",
        "total=n(n+1)/2\n",
        "\n"
      ]
    },
    {
      "cell_type": "code",
      "metadata": {
        "colab": {
          "base_uri": "https://localhost:8080/"
        },
        "id": "W45VM9DUG3wU",
        "outputId": "72c43960-c770-4718-d4cf-fa29898525e8"
      },
      "source": [
        "#Caulculate the addion of all intergers up to n\n",
        "#using the arithemetic sequence\n",
        "\n",
        "#the input function always give us a string\n",
        "n=int(input(\"Please enter an interger than zero\"))\n",
        "\n",
        "total=(n*(n+1))/2\n",
        "\n",
        "# using f-atring to shown the result\n",
        "print(f\"The total is (total)\")\n",
        "# the classic style\n",
        "print(\"The total is \", total)"
      ],
      "execution_count": null,
      "outputs": [
        {
          "output_type": "stream",
          "text": [
            "Please enter an interger than zero2021\n",
            "The total is (total)\n",
            "The total is  2043231.0\n"
          ],
          "name": "stdout"
        }
      ]
    },
    {
      "cell_type": "markdown",
      "metadata": {
        "id": "DLunxsthI8dv"
      },
      "source": [
        "Write a program that calculates the value of y when the user enters a integerx\n",
        "\n",
        "y=2*(x+3)-3"
      ]
    },
    {
      "cell_type": "code",
      "metadata": {
        "colab": {
          "base_uri": "https://localhost:8080/"
        },
        "id": "HkRVb0pLI3pz",
        "outputId": "9bcfad04-0346-4bc9-b299-9e1dbbab8e88"
      },
      "source": [
        "#step 5, get the input from the user\n",
        "#Step 2, conevert the input which is string to number\n",
        "#Step 3, assign(save, store) the input to variable x\n",
        "x=int(input(\"Please enter the value for x\"))\n",
        "\n",
        "#Step 4, write the equation for y\n",
        "y=2*(x+3)-3\n",
        "#step 5, show the result\n",
        "print(\"y is\", y)"
      ],
      "execution_count": null,
      "outputs": [
        {
          "output_type": "stream",
          "text": [
            "Please enter the value for x3\n",
            "y is 9\n"
          ],
          "name": "stdout"
        }
      ]
    },
    {
      "cell_type": "markdown",
      "metadata": {
        "id": "pC3u-H6rLBB4"
      },
      "source": [
        "③ Write a program that asks the user for his name and grade and outputs the user’s email address at UWC Isak\n",
        "\n"
      ]
    },
    {
      "cell_type": "code",
      "metadata": {
        "id": "JR_NsvSPL9jV"
      },
      "source": [
        "#first name\n",
        "x=input(\"Please enter your first name\")\n",
        "#second name\n",
        "y=input(\"Please enter your last name\")\n",
        "#the year of graduation\n",
        "Graduation_year=input(\"Please enter the year you are going to graduate\")\n",
        "print(Graduation_year,\".\",x,\".\",y,\"@uwcisak.jp\")"
      ],
      "execution_count": null,
      "outputs": []
    },
    {
      "cell_type": "markdown",
      "metadata": {
        "id": "g2Kccw9FMFz4"
      },
      "source": [
        "④ Write a program that converts a temperature from Fahrenheit to Celsius. \n"
      ]
    },
    {
      "cell_type": "code",
      "metadata": {
        "colab": {
          "base_uri": "https://localhost:8080/"
        },
        "id": "LMrgcF49MNYm",
        "outputId": "bac398a6-a1a8-4102-d708-fbf38a0810e6"
      },
      "source": [
        "#temperature in fahrenheit\n",
        "x=int(input(\"Please enter the current temperature in farenheit\"))\n",
        "#formula to convert temperature from fahrenheit to celsius\n",
        "y=(x-32)*5/9\n",
        "print(\"The current temperature in celsius is \", y,\"℃\")"
      ],
      "execution_count": null,
      "outputs": [
        {
          "output_type": "stream",
          "text": [
            "Please enter the current temperature in farenheit32\n",
            "The current temperature in celsius is  0.0 ℃\n"
          ],
          "name": "stdout"
        }
      ]
    },
    {
      "cell_type": "markdown",
      "metadata": {
        "id": "2sIo3KJTQgVc"
      },
      "source": [
        "⑤ Write a program to convert from miles to kilometers"
      ]
    },
    {
      "cell_type": "code",
      "metadata": {
        "colab": {
          "base_uri": "https://localhost:8080/"
        },
        "id": "NX5dfjMxQk2m",
        "outputId": "c2f9f4b0-e510-4654-ff13-67006d560ae7"
      },
      "source": [
        "#distance in mile\n",
        "mile=int(input(\"Please enter the distance from your home to ISAK in mile\"))\n",
        "#formula to convert from miles to kilometers\n",
        "kilo=mile/1.609\n",
        "print(\"The distance from your home to ISAK in km is \",kilo)"
      ],
      "execution_count": null,
      "outputs": [
        {
          "output_type": "stream",
          "text": [
            "Please enter the distance from your home to ISAK in mile80\n",
            "The distance from your home to ISAK in km is  49.720323182100685\n"
          ],
          "name": "stdout"
        }
      ]
    },
    {
      "cell_type": "markdown",
      "metadata": {
        "id": "ee06mCxoPDKX"
      },
      "source": [
        "⑥Write a program that solves the Quadratic Equation for valid inputs a, b, c"
      ]
    },
    {
      "cell_type": "code",
      "metadata": {
        "colab": {
          "base_uri": "https://localhost:8080/"
        },
        "id": "dCfYtMPxO9Vb",
        "outputId": "87aea83e-ffcc-438f-ec4f-fb9f96ccda23"
      },
      "source": [
        "#I am not sure if this is how I was supposed to solve this problem, but I apllied some learning from snakify\n",
        "#import I applied math module in order to show calculation including root\n",
        "import math\n",
        "\n",
        "#input for a,b,c\n",
        "print(\"y=ax²+bx+c\")\n",
        "a=int(input(\"Please enter the value of a \"))\n",
        "b=int(input(\"Please enter the value of b \"))\n",
        "c=int(input(\"Please enter the value of c \"))\n",
        "\n",
        "#formula to solve the quadratic equation \"-b±√(b²-4ac)/2a\"\n",
        "g= b**2-4*a*c\n",
        "\n",
        "y= -b+math.sqrt(g)/2*a\n",
        "z= -b-math.sqrt(g)/2*a\n",
        "\n",
        "print(f\"The answer is {y} and {z}\")"
      ],
      "execution_count": 6,
      "outputs": [
        {
          "output_type": "stream",
          "text": [
            "y=ax²+bx+c\n",
            "Please enter the value of a 1\n",
            "Please enter the value of b 4\n",
            "Please enter the value of c 2\n",
            "The answer is -2.585786437626905 and -5.414213562373095\n"
          ],
          "name": "stdout"
        }
      ]
    },
    {
      "cell_type": "markdown",
      "metadata": {
        "id": "KFzyNavGZ0L8"
      },
      "source": [
        "⑦ Write a program to reverse a number entered by the user"
      ]
    },
    {
      "cell_type": "code",
      "metadata": {
        "colab": {
          "base_uri": "https://localhost:8080/"
        },
        "id": "6VZnZm05aFnw",
        "outputId": "bfd49c4e-773a-465d-c3bd-e9f33e06ff0e"
      },
      "source": [
        "#This is only applicable for figures of 5 digits\n",
        "#The idea is to extract numbers of each digit by division, and line them up in a reversed order\n",
        "figure=int(input(\"Please enter any figure of 5 digits\"))\n",
        "fifth=figure//10000\n",
        "fifthr=figure%10000\n",
        "fourth=fifthr//1000\n",
        "fourthr=fifthr%1000\n",
        "third=fourthr//100\n",
        "thirdr=fourthr%100\n",
        "second=thirdr//10\n",
        "secondr=thirdr%10\n",
        "first=secondr//1\n",
        "\n",
        "reversed_figure=first*10000+second*1000+third*100+fourth*10+fifth\n",
        "\n",
        "print(f\"The reversed version of the figure is {reversed_figure}\")\n",
        "\n"
      ],
      "execution_count": null,
      "outputs": [
        {
          "output_type": "stream",
          "text": [
            "Please enter any figure of 5 digits68763\n",
            "The reversed version of the figure is 36786\n"
          ],
          "name": "stdout"
        }
      ]
    },
    {
      "cell_type": "markdown",
      "metadata": {
        "id": "VxHupGD6fbRr"
      },
      "source": [
        "⑧ Write a program that asks the user for their name, age, nationality and produces a greeting message such as “Welcome John Doe you are 30 years old and a national of Colombia”"
      ]
    },
    {
      "cell_type": "code",
      "metadata": {
        "id": "yVitjEKWhGoi",
        "colab": {
          "base_uri": "https://localhost:8080/"
        },
        "outputId": "154eb5b6-4261-4bc8-fefe-81a12d73a109"
      },
      "source": [
        "#name of the user\n",
        "name=(input(\"Please enter your name \"))\n",
        "#age of the user\n",
        "age=int(input(\"Please enter your age \"))\n",
        "#nationality of the user\n",
        "nationality=(input(\"Please enter your nationality \"))\n",
        "print(\"Welcome \",name, \"from \",nationality,\"at \",age)"
      ],
      "execution_count": 4,
      "outputs": [
        {
          "output_type": "stream",
          "text": [
            "Please enter your name Ryu\n",
            "Please enter your age 17\n",
            "Please enter your nationality Japan\n",
            "Welcome  Ryu from  Japan at  17\n"
          ],
          "name": "stdout"
        }
      ]
    },
    {
      "cell_type": "markdown",
      "metadata": {
        "id": "NdJnT0VRgoYd"
      },
      "source": [
        "⑨ Create one more program that converts between different units"
      ]
    },
    {
      "cell_type": "code",
      "metadata": {
        "colab": {
          "base_uri": "https://localhost:8080/"
        },
        "id": "140mTTLbhjd0",
        "outputId": "c49a1eab-b8bc-4944-818d-5b76b3ceeaf6"
      },
      "source": [
        "#speed in knot\n",
        "knot=int(input(\"Please enter the maximum speed of your cruiser in knot, if you owned one \"))\n",
        "#formula to cnvert from knot to km/h\n",
        "kmh=knot*1.852\n",
        "print(\"The maximum speed of your cruiser in km/h is \",kmh)"
      ],
      "execution_count": 5,
      "outputs": [
        {
          "output_type": "stream",
          "text": [
            "Please enter the maximum speed of your cruiser in knot, if you owned one 10\n",
            "The maximum speed of your cruiser in km/h is  18.52\n"
          ],
          "name": "stdout"
        }
      ]
    }
  ]
}